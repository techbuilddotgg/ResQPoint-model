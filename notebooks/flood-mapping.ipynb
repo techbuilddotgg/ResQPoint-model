{
 "cells": [
  {
   "metadata": {
    "ExecuteTime": {
     "end_time": "2024-11-22T23:03:09.995089Z",
     "start_time": "2024-11-22T23:03:09.980480Z"
    }
   },
   "cell_type": "code",
   "source": [
    "import csv\n",
    "from sklearn.ensemble import RandomForestClassifier\n",
    "from sklearn.model_selection import train_test_split\n",
    "import pandas as pd"
   ],
   "id": "c75db4999118ab46",
   "outputs": [],
   "execution_count": 17
  },
  {
   "metadata": {
    "ExecuteTime": {
     "end_time": "2024-11-22T23:03:10.007321Z",
     "start_time": "2024-11-22T23:03:10.002943Z"
    }
   },
   "cell_type": "code",
   "source": [
    "# Date Definitions\n",
    "beforeflood_date = \"2019-03-11\"\n",
    "duringflood_date = \"2019-03-23\"\n",
    "\n",
    "# Polarization Selection\n",
    "def setup():\n",
    "    return {\n",
    "        \"input\": {\n",
    "            \"bands\": [\"VV\"]\n",
    "        },\n",
    "        \"output\": {\"bands\": 3},\n",
    "        \"mosaicking\": \"ORBIT\"\n",
    "    }\n",
    "\n",
    "# Preprocessing of Scenes\n",
    "def pre_process_scenes(collections, allowed_dates):\n",
    "    # Filter scenes based on allowed dates\n",
    "    collections[\"scenes\"][\"orbits\"] = [\n",
    "        orbit for orbit in collections[\"scenes\"][\"orbits\"]\n",
    "        if orbit[\"dateFrom\"].split(\"T\")[0] in allowed_dates\n",
    "    ]\n",
    "    return collections\n",
    "\n",
    "# Flood Mapping Calculation\n",
    "def calc_fm(sample):\n",
    "    return 1.5 * sample[\"VV\"]\n",
    "\n",
    "# Date Formatting Helper\n",
    "def date_format(d):\n",
    "    return d.strftime(\"%Y-%m-%d\")\n",
    "\n",
    "# Evaluate Pixel\n",
    "def evaluate_pixel(samples, scenes):\n",
    "    out_be = calc_fm(samples[1])  # before-flood image\n",
    "    out_du = calc_fm(samples[0])  # during-flood image\n",
    "    return [out_be, out_du, out_du]\n",
    "\n",
    "# Example Collections and Samples\n",
    "collections = {\n",
    "    \"scenes\": {\n",
    "        \"orbits\": [\n",
    "            {\"dateFrom\": \"2019-03-11T00:00:00\"},\n",
    "            {\"dateFrom\": \"2019-03-23T00:00:00\"}\n",
    "        ]\n",
    "    }\n",
    "}\n",
    "\n",
    "samples = [\n",
    "    {\"VV\": 0.5},  # During flood sample\n",
    "    {\"VV\": 0.3}   # Before flood sample\n",
    "]\n",
    "\n",
    "# Main Execution\n",
    "allowed_dates = [beforeflood_date, duringflood_date]\n",
    "collections = pre_process_scenes(collections, allowed_dates)\n",
    "result = evaluate_pixel(samples, collections)\n",
    "print(\"Result:\", result)"
   ],
   "id": "eb2062b02591ed95",
   "outputs": [
    {
     "name": "stdout",
     "output_type": "stream",
     "text": [
      "Result: [0.44999999999999996, 0.75, 0.75]\n"
     ]
    }
   ],
   "execution_count": 18
  },
  {
   "metadata": {},
   "cell_type": "markdown",
   "source": [
    "The result represents the processed radar backscatter intensity (VV band) from satellite imagery, calculated before and during a flood event. Here's what each value implies:\n",
    "\n",
    "The result represents the processed radar backscatter intensity (VV band) from satellite imagery, calculated before and during a flood event. Here's what each value implies:\n",
    "\n",
    "1. out_be (Before Flood):\n",
    "Value: 0.45\n",
    "This is the radar signal's intensity (scaled by a factor of 1.5) from the satellite image taken before the flood.\n",
    "It reflects the surface conditions, like soil moisture, vegetation, or urban structures, before the flood occurred.\n",
    "\n",
    "2. out_du (During Flood):\n",
    "Value: 0.75 (repeated twice for output format consistency).\n",
    "This is the radar signal's intensity (scaled by a factor of 1.5) from the satellite image taken during the flood.\n",
    "The higher value compared to out_be could indicate changes in the surface, such as the presence of water, which has different radar reflectivity compared to dry land.\n"
   ],
   "id": "794e7f2e5c0bea85"
  },
  {
   "metadata": {},
   "cell_type": "markdown",
   "source": [
    "Comparison (out_be vs out_du):\n",
    "The increase from 0.45 to 0.75 suggests a significant change in the surface reflectivity, likely due to water inundation during the flood. Water surfaces typically have a strong backscatter signal in radar data, which is why the value is higher during the flood.This data helps in flood detection and mapping:\n",
    "\n",
    "Identify flooded areas by comparing radar intensities before and during the event.\n",
    "Generate flood extent maps for disaster response and damage assessment.\n",
    "If you add more processing (e.g., masking regions where the difference exceeds a threshold), you could create binary maps that show flooded vs non-flooded areas."
   ],
   "id": "77c2135ef3b2e3d9"
  },
  {
   "metadata": {},
   "cell_type": "markdown",
   "source": "Extended script to calculate additional satellite-based features and prepare a dataset suitable for ML models.",
   "id": "f7a4941641c12872"
  },
  {
   "metadata": {
    "ExecuteTime": {
     "end_time": "2024-11-22T23:03:10.023586Z",
     "start_time": "2024-11-22T23:03:10.018861Z"
    }
   },
   "cell_type": "code",
   "source": [
    "# Additional helper for change detection\n",
    "def calculate_change(before, during):\n",
    "    return during - before\n",
    "\n",
    "# Add more features (e.g., NDWI, NDVI, elevation)\n",
    "def calculate_ndwi(nir, green):\n",
    "    return (green - nir) / (green + nir)\n",
    "\n",
    "def calculate_ndvi(nir, red):\n",
    "    return (nir - red) / (nir + red)\n",
    "\n",
    "# Extend evaluate_pixel to include additional features\n",
    "def evaluate_pixel(samples, scenes):\n",
    "    # Before and during flood\n",
    "    before = calc_fm(samples[1])  # Before flood VV\n",
    "    during = calc_fm(samples[0])  # During flood VV\n",
    "\n",
    "    # Change detection\n",
    "    change_vv = calculate_change(before, during)\n",
    "\n",
    "    # Add NDVI and NDWI as dummy data (replace with actual data extraction logic)\n",
    "    ndvi = calculate_ndvi(samples[1].get(\"NIR\", 0.4), samples[1].get(\"RED\", 0.2))  # Before flood\n",
    "    ndwi = calculate_ndwi(samples[1].get(\"NIR\", 0.4), samples[1].get(\"GREEN\", 0.3))  # Before flood\n",
    "\n",
    "    # Terrain features (dummy elevation, replace with actual DEM data)\n",
    "    elevation = scenes.get(\"elevation\", 500)  # Example elevation in meters\n",
    "\n",
    "    return {\n",
    "        \"before_vv\": before,\n",
    "        \"during_vv\": during,\n",
    "        \"change_vv\": change_vv,\n",
    "        \"ndvi\": ndvi,\n",
    "        \"ndwi\": ndwi,\n",
    "        \"elevation\": elevation\n",
    "    }\n",
    "\n",
    "# Example data for ML\n",
    "samples = [\n",
    "    {\"VV\": 0.5, \"NIR\": 0.6, \"RED\": 0.2, \"GREEN\": 0.3},  # During flood\n",
    "    {\"VV\": 0.3, \"NIR\": 0.4, \"RED\": 0.2, \"GREEN\": 0.3}   # Before flood\n",
    "]\n",
    "\n",
    "scenes = {\n",
    "    \"elevation\": 450  # Example elevation\n",
    "}\n",
    "\n",
    "# Generate data for ML\n",
    "data_point = evaluate_pixel(samples, scenes)\n",
    "print(\"ML Features:\", data_point)"
   ],
   "id": "752cf2dde267f61a",
   "outputs": [
    {
     "name": "stdout",
     "output_type": "stream",
     "text": [
      "ML Features: {'before_vv': 0.44999999999999996, 'during_vv': 0.75, 'change_vv': 0.30000000000000004, 'ndvi': 0.3333333333333333, 'ndwi': -0.1428571428571429, 'elevation': 450}\n"
     ]
    }
   ],
   "execution_count": 19
  },
  {
   "metadata": {
    "ExecuteTime": {
     "end_time": "2024-11-22T23:03:10.035380Z",
     "start_time": "2024-11-22T23:03:10.031925Z"
    }
   },
   "cell_type": "code",
   "source": [
    "dataset = []\n",
    "areas = [\"Area1\", \"Area2\"]  # Replace with real area IDs\n",
    "for area in areas:\n",
    "    for time in [\"before_flood\", \"during_flood\"]:\n",
    "        # Simulated or fetched satellite data\n",
    "        #samples = get_satellite_samples(area, time)  # Replace with actual data fetching\n",
    "        #scenes = get_scene_metadata(area)           # Replace with real metadata\n",
    "        features = evaluate_pixel(samples, scenes)\n",
    "        \n",
    "        # Add a flood risk label (manually or based on logic)\n",
    "        if time == \"during_flood\":  # Assuming \"during_flood\" corresponds to flood events\n",
    "            features[\"flood_risk\"] = 1\n",
    "        else:\n",
    "            features[\"flood_risk\"] = 0\n",
    "        \n",
    "        # Add geographic and temporal metadata\n",
    "        features[\"area\"] = area\n",
    "        features[\"time\"] = time\n",
    "        dataset.append(features)\n",
    "\n",
    "# Save to CSV\n",
    "with open(\"flood_risk_data.csv\", \"w\", newline=\"\") as file:\n",
    "    writer = csv.DictWriter(file, fieldnames=dataset[0].keys())\n",
    "    writer.writeheader()\n",
    "    writer.writerows(dataset)"
   ],
   "id": "539a1fd6a487f4f4",
   "outputs": [],
   "execution_count": 20
  },
  {
   "metadata": {
    "ExecuteTime": {
     "end_time": "2024-11-22T23:03:10.095240Z",
     "start_time": "2024-11-22T23:03:10.044961Z"
    }
   },
   "cell_type": "code",
   "source": [
    "# Load the dataset\n",
    "data = pd.read_csv(\"flood_risk_data.csv\")\n",
    "\n",
    "# Prepare features and labels\n",
    "X = data[[\"before_vv\", \"during_vv\", \"change_vv\", \"ndvi\", \"ndwi\", \"elevation\"]]\n",
    "y = data[\"flood_risk\"]\n",
    "\n",
    "# Train-test split\n",
    "X_train, X_test, y_train, y_test = train_test_split(X, y, test_size=0.2, random_state=42)\n",
    "\n",
    "# Train a Random Forest model\n",
    "model = RandomForestClassifier(random_state=42)\n",
    "model.fit(X_train, y_train)\n",
    "print(\"Model trained!\")"
   ],
   "id": "75860df4a3b66fc1",
   "outputs": [
    {
     "name": "stdout",
     "output_type": "stream",
     "text": [
      "Model trained!\n"
     ]
    }
   ],
   "execution_count": 21
  },
  {
   "metadata": {},
   "cell_type": "markdown",
   "source": "Once the model is trained, it can be used to predict flood risks in real time based on new satellite data and environmental conditions. This can help in early warning systems, disaster response planning, and risk mitigation strategies.",
   "id": "6e3c83b3ab1f8c82"
  }
 ],
 "metadata": {
  "kernelspec": {
   "display_name": "Python 3",
   "language": "python",
   "name": "python3"
  },
  "language_info": {
   "codemirror_mode": {
    "name": "ipython",
    "version": 2
   },
   "file_extension": ".py",
   "mimetype": "text/x-python",
   "name": "python",
   "nbconvert_exporter": "python",
   "pygments_lexer": "ipython2",
   "version": "2.7.6"
  }
 },
 "nbformat": 4,
 "nbformat_minor": 5
}
